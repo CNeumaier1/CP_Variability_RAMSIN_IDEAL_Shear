{
 "cells": [
  {
   "cell_type": "markdown",
   "id": "bb6a8ab8-d01a-4764-a68e-1aca50d9afef",
   "metadata": {},
   "source": [
    "## Import Libraries"
   ]
  },
  {
   "cell_type": "code",
   "execution_count": null,
   "id": "0c9ef697-fcfb-4f65-94a9-80ff520b76fc",
   "metadata": {},
   "outputs": [],
   "source": [
    "import numpy as np\n",
    "import xarray as xr\n",
    "import pandas as pd\n",
    "import matplotlib.pyplot as plt\n",
    "from glob import glob\n",
    "from matplotlib.ticker import StrMethodFormatter, NullFormatter\n",
    "%matplotlib inline\n",
    "import metpy.calc as mpcalc\n",
    "from metpy.cbook import get_test_data\n",
    "from metpy.plots import add_metpy_logo, SkewT\n",
    "from metpy.units import units"
   ]
  },
  {
   "cell_type": "code",
   "execution_count": null,
   "id": "8cb5aa25-1adf-4bde-b2e7-6efa17a46260",
   "metadata": {},
   "outputs": [],
   "source": [
    "### define constants for calculations\n",
    "cp=1004.; Rd=287.; Rv=461.5; eps = Rd/Rv; L = 2.5e6\n",
    "\n",
    "def open_iMet(imet_filepath):\n",
    "    '''Opens iMet Sounding to a pandas dataframe'''\n",
    "    df = pd.read_table(open(imet_filepath, errors='ignore'),   ###reading in file as a pandas dataframe\n",
    "                  skiprows=[1,2], sep=r'\\s+', index_col = False)\n",
    "    df['Temp'] = df['Temp']+273.15 ###Converts to K\n",
    "    \n",
    "    return df\n",
    "        "
   ]
  },
  {
   "cell_type": "markdown",
   "id": "3afb0e06-409b-4623-bddf-a4ddf69d62b3",
   "metadata": {},
   "source": [
    "## Get radiosonde file for Figure S1"
   ]
  },
  {
   "cell_type": "code",
   "execution_count": null,
   "id": "5c71eea8-4dd4-4493-93ce-5f9a20beaf39",
   "metadata": {},
   "outputs": [],
   "source": [
    "FilePath = '/Users/cneumaie/Desktop/Research/BACS_Modeling/Soundings/*.txt'\n",
    "files = sorted(glob(FilePath))\n",
    "df = open_iMet(files[0])"
   ]
  },
  {
   "cell_type": "markdown",
   "id": "768c07dd-942c-4ddb-819c-7c1f5b2b256f",
   "metadata": {},
   "source": [
    "## Plot Figure S1"
   ]
  },
  {
   "cell_type": "code",
   "execution_count": null,
   "id": "fde866d0-cd5d-4c06-86b0-0dfb2ed24128",
   "metadata": {},
   "outputs": [],
   "source": [
    "SavePath = '/Users/cneumaie/Desktop/Research/BACS_Modeling/Soundings/'\n",
    "plt.rcParams['figure.figsize'] = (14, 14)\n",
    "plt.rcParams['font.size'] = 40\n",
    "plt.rcParams['font.family'] = 'Verdana'\n",
    "plt.rcParams['text.color'] = 'black'\n",
    "plt.rcParams['lines.linewidth'] = 2\n",
    "i = 50\n",
    "plt.figure(dpi = 300)\n",
    "res2 = 25\n",
    "skew = SkewT(rotation = 45)\n",
    "date = str(df['UTC_Date'][0]) ###get date of launch\n",
    "date = date.replace('/', '')\n",
    "time = str(df['UTC_Time'][0]) ##get time of launch in UTC\n",
    "p = df['Press'].rolling(i, center = True).mean().values*units.mbar ### Pressure, using metpy to get units on variable to do metpy sounding\n",
    "p1 = df['Press'].rolling(i, center = True).mean().dropna()\n",
    "z = df['Alt_AGL'].rolling(i, center = True).mean()   ###Height Above Ground Level (m)\n",
    "t = df['Temp'].rolling(i, center = True).mean().apply(lambda x: np.sum(x * p1)/np.sum(p1)) -273.15 ### Temperature (C)\n",
    "td = df['DP'].rolling(i, center = True).mean().apply(lambda x: np.sum(x * p1)/np.sum(p1)) ### Dewpoint Temperature (C)\n",
    "rh = df['RelHum'] ###Relative Humidity (%)\n",
    "wind_speed = df['WSpeed']  ### Wind Speed (m/s)\n",
    "wind_dir = df['WDirn'].rolling(i, center = True).mean().apply(lambda x: np.sum(x * p1)/np.sum(p1)).values  * units.degrees    ## Wind Direction (Degrees from North)\n",
    "wind_speed1 = df['WSpeed'].rolling(i, center = True).mean().apply(lambda x: np.sum(x * p1)/np.sum(p1)).values *1.94384* units.knots## This wind speed is converted to knots for sounding\n",
    "wind_speed_calc = units.Quantity(wind_speed1, 'knots') ### This converts wind speed so we can get u,v in the next line\n",
    "u, v = mpcalc.wind_components(wind_speed1, wind_dir)   ### This converts wind speed and direction into u,v vectors for sounding\n",
    "ar = df['Ascent']   ### Ascent Rate (m/s)\n",
    "mr = df['Mix_Rat'] ### Mixing Ratio (g/kg)\n",
    "# print(u,v)\n",
    "# skew.plot(p1, df['Temp']-273.15, 'k--', alpha = 0.5)\n",
    "skew.plot(p[::res2],t[::res2], 'r', linewidth = 6)\n",
    "# skew.plot(p1, df['DP'], 'k--', alpha = 0.5)\n",
    "skew.plot(p[::res2],td[::res2], 'g', linewidth = 6)\n",
    "\n",
    "    # skew.plot_barbs(P, u,v)\n",
    "    # Set spacing interval--Every 50 mb from 1000 to 100 mb\n",
    "my_interval = np.arange(100, 900, 25)* units('mbar')\n",
    "# print(t)\n",
    "    # Get indexes of values closest to defined interval\n",
    "ix = mpcalc.resample_nn_1d(p, my_interval)\n",
    "    # Plot only values nearest to defined interval values\n",
    "res = 120\n",
    "skew.plot_barbs(p[::res], u[::res], v[::res], length = 10)\n",
    "# skew.plot_dry_adiabats()\n",
    "# skew.plot_moist_adiabats()\n",
    "# skew.plot_mixing_lines()\n",
    "skew.ax.set_ylim(850, 100)\n",
    "skew.ax.set_xlim(-50,30)\n",
    "# plt.title(date + ' ' + time + ' UTC')\n",
    "plt.ylabel('hPa')\n",
    "plt.xlabel('$^o$C')\n",
    "SavePath = '/Users/cneumaie/Downloads/'\n",
    "plt.savefig(SavePath+'IOP3env_smoothed_CPTrains', dpi = 600)\n",
    "plt.show()\n",
    "plt.close()\n",
    "\n"
   ]
  }
 ],
 "metadata": {
  "kernelspec": {
   "display_name": "Python 3 (ipykernel)",
   "language": "python",
   "name": "python3"
  },
  "language_info": {
   "codemirror_mode": {
    "name": "ipython",
    "version": 3
   },
   "file_extension": ".py",
   "mimetype": "text/x-python",
   "name": "python",
   "nbconvert_exporter": "python",
   "pygments_lexer": "ipython3",
   "version": "3.12.2"
  }
 },
 "nbformat": 4,
 "nbformat_minor": 5
}
