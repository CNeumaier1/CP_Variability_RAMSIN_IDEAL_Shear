{
 "cells": [
  {
   "cell_type": "code",
   "execution_count": 2,
   "id": "54fd79d9-3990-49fc-9836-4e0b8ab39001",
   "metadata": {},
   "outputs": [],
   "source": [
    "###Code To make Table S1\n",
    "import pandas as pd"
   ]
  },
  {
   "cell_type": "code",
   "execution_count": 10,
   "id": "7d1c4d4a-deba-4c24-b069-932bea8a727d",
   "metadata": {},
   "outputs": [],
   "source": [
    "CP_temps = [-5,-10,-20]\n",
    "times = [30,60,90,120]\n",
    "name_list = []\n",
    "CP1_list = []\n",
    "CP2_list = []\n",
    "times_list = []\n",
    "for CP1_T in CP_temps:\n",
    "    for CP2_T in CP_temps:\n",
    "        for time in times:\n",
    "            name_list.append(f\"CP1{CP1_T}KCP2{CP2_T}KDT{time}min\")\n",
    "            # name_list.append(r\"$CP1_{\"+str(CP1_T)+\"K}$ $CP2_{\"+str(CP2_T)+\"K}$ \"+str(time)+\"min\")\n",
    "            CP1_list.append(CP1_T)\n",
    "            CP2_list.append(CP2_T)\n",
    "            times_list.append(time)\n",
    "columns = [\"Exper Name\", \"CP 1 min T' (K)\",  \"CP 2 min T' (K)\", f\"$\\Delta$t (min)\"]\n",
    "data = list(zip(name_list,CP1_list,CP2_list,times_list))\n",
    "table = pd.DataFrame(data, columns = columns)"
   ]
  },
  {
   "cell_type": "code",
   "execution_count": 12,
   "id": "3b4b5ff0-660c-4b85-8fa0-ee7150b6fc82",
   "metadata": {},
   "outputs": [],
   "source": [
    "table.to_csv(\"./Fig2_table_v7.csv\")"
   ]
  },
  {
   "cell_type": "code",
   "execution_count": null,
   "id": "8b09fadf-ba5b-441c-b0e7-8d86d0e38c6a",
   "metadata": {},
   "outputs": [],
   "source": []
  },
  {
   "cell_type": "code",
   "execution_count": null,
   "id": "6595bd93-5996-48bd-a4c0-619c1d970338",
   "metadata": {},
   "outputs": [],
   "source": []
  }
 ],
 "metadata": {
  "kernelspec": {
   "display_name": "Python 3 (ipykernel)",
   "language": "python",
   "name": "python3"
  },
  "language_info": {
   "codemirror_mode": {
    "name": "ipython",
    "version": 3
   },
   "file_extension": ".py",
   "mimetype": "text/x-python",
   "name": "python",
   "nbconvert_exporter": "python",
   "pygments_lexer": "ipython3",
   "version": "3.9.5"
  }
 },
 "nbformat": 4,
 "nbformat_minor": 5
}
